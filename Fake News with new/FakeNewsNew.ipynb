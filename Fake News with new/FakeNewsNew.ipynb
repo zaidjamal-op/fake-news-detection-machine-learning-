{
 "cells": [
  {
   "cell_type": "code",
   "execution_count": 5,
   "metadata": {},
   "outputs": [],
   "source": [
    "import pandas as pd\n",
    "import numpy as np\n",
    "import re\n",
    "from sklearn.utils import shuffle "
   ]
  },
  {
   "cell_type": "code",
   "execution_count": 6,
   "metadata": {},
   "outputs": [],
   "source": [
    "real = pd.read_csv('./Data_NLP/True.csv.zip')\n",
    "fake = pd.read_csv('./Data_NLP/Fake.csv.zip')"
   ]
  },
  {
   "cell_type": "code",
   "execution_count": 7,
   "metadata": {},
   "outputs": [
    {
     "data": {
      "text/html": [
       "<div>\n",
       "<style scoped>\n",
       "    .dataframe tbody tr th:only-of-type {\n",
       "        vertical-align: middle;\n",
       "    }\n",
       "\n",
       "    .dataframe tbody tr th {\n",
       "        vertical-align: top;\n",
       "    }\n",
       "\n",
       "    .dataframe thead th {\n",
       "        text-align: right;\n",
       "    }\n",
       "</style>\n",
       "<table border=\"1\" class=\"dataframe\">\n",
       "  <thead>\n",
       "    <tr style=\"text-align: right;\">\n",
       "      <th></th>\n",
       "      <th>title</th>\n",
       "      <th>text</th>\n",
       "      <th>subject</th>\n",
       "      <th>date</th>\n",
       "    </tr>\n",
       "  </thead>\n",
       "  <tbody>\n",
       "    <tr>\n",
       "      <th>0</th>\n",
       "      <td>As U.S. budget fight looms, Republicans flip t...</td>\n",
       "      <td>WASHINGTON (Reuters) - The head of a conservat...</td>\n",
       "      <td>politicsNews</td>\n",
       "      <td>December 31, 2017</td>\n",
       "    </tr>\n",
       "    <tr>\n",
       "      <th>1</th>\n",
       "      <td>U.S. military to accept transgender recruits o...</td>\n",
       "      <td>WASHINGTON (Reuters) - Transgender people will...</td>\n",
       "      <td>politicsNews</td>\n",
       "      <td>December 29, 2017</td>\n",
       "    </tr>\n",
       "    <tr>\n",
       "      <th>2</th>\n",
       "      <td>Senior U.S. Republican senator: 'Let Mr. Muell...</td>\n",
       "      <td>WASHINGTON (Reuters) - The special counsel inv...</td>\n",
       "      <td>politicsNews</td>\n",
       "      <td>December 31, 2017</td>\n",
       "    </tr>\n",
       "    <tr>\n",
       "      <th>3</th>\n",
       "      <td>FBI Russia probe helped by Australian diplomat...</td>\n",
       "      <td>WASHINGTON (Reuters) - Trump campaign adviser ...</td>\n",
       "      <td>politicsNews</td>\n",
       "      <td>December 30, 2017</td>\n",
       "    </tr>\n",
       "    <tr>\n",
       "      <th>4</th>\n",
       "      <td>Trump wants Postal Service to charge 'much mor...</td>\n",
       "      <td>SEATTLE/WASHINGTON (Reuters) - President Donal...</td>\n",
       "      <td>politicsNews</td>\n",
       "      <td>December 29, 2017</td>\n",
       "    </tr>\n",
       "  </tbody>\n",
       "</table>\n",
       "</div>"
      ],
      "text/plain": [
       "                                               title  \\\n",
       "0  As U.S. budget fight looms, Republicans flip t...   \n",
       "1  U.S. military to accept transgender recruits o...   \n",
       "2  Senior U.S. Republican senator: 'Let Mr. Muell...   \n",
       "3  FBI Russia probe helped by Australian diplomat...   \n",
       "4  Trump wants Postal Service to charge 'much mor...   \n",
       "\n",
       "                                                text       subject  \\\n",
       "0  WASHINGTON (Reuters) - The head of a conservat...  politicsNews   \n",
       "1  WASHINGTON (Reuters) - Transgender people will...  politicsNews   \n",
       "2  WASHINGTON (Reuters) - The special counsel inv...  politicsNews   \n",
       "3  WASHINGTON (Reuters) - Trump campaign adviser ...  politicsNews   \n",
       "4  SEATTLE/WASHINGTON (Reuters) - President Donal...  politicsNews   \n",
       "\n",
       "                 date  \n",
       "0  December 31, 2017   \n",
       "1  December 29, 2017   \n",
       "2  December 31, 2017   \n",
       "3  December 30, 2017   \n",
       "4  December 29, 2017   "
      ]
     },
     "execution_count": 7,
     "metadata": {},
     "output_type": "execute_result"
    }
   ],
   "source": [
    "real.head()"
   ]
  },
  {
   "cell_type": "code",
   "execution_count": 8,
   "metadata": {},
   "outputs": [
    {
     "data": {
      "text/html": [
       "<div>\n",
       "<style scoped>\n",
       "    .dataframe tbody tr th:only-of-type {\n",
       "        vertical-align: middle;\n",
       "    }\n",
       "\n",
       "    .dataframe tbody tr th {\n",
       "        vertical-align: top;\n",
       "    }\n",
       "\n",
       "    .dataframe thead th {\n",
       "        text-align: right;\n",
       "    }\n",
       "</style>\n",
       "<table border=\"1\" class=\"dataframe\">\n",
       "  <thead>\n",
       "    <tr style=\"text-align: right;\">\n",
       "      <th></th>\n",
       "      <th>title</th>\n",
       "      <th>text</th>\n",
       "      <th>subject</th>\n",
       "      <th>date</th>\n",
       "    </tr>\n",
       "  </thead>\n",
       "  <tbody>\n",
       "    <tr>\n",
       "      <th>0</th>\n",
       "      <td>Donald Trump Sends Out Embarrassing New Year’...</td>\n",
       "      <td>Donald Trump just couldn t wish all Americans ...</td>\n",
       "      <td>News</td>\n",
       "      <td>December 31, 2017</td>\n",
       "    </tr>\n",
       "    <tr>\n",
       "      <th>1</th>\n",
       "      <td>Drunk Bragging Trump Staffer Started Russian ...</td>\n",
       "      <td>House Intelligence Committee Chairman Devin Nu...</td>\n",
       "      <td>News</td>\n",
       "      <td>December 31, 2017</td>\n",
       "    </tr>\n",
       "    <tr>\n",
       "      <th>2</th>\n",
       "      <td>Sheriff David Clarke Becomes An Internet Joke...</td>\n",
       "      <td>On Friday, it was revealed that former Milwauk...</td>\n",
       "      <td>News</td>\n",
       "      <td>December 30, 2017</td>\n",
       "    </tr>\n",
       "    <tr>\n",
       "      <th>3</th>\n",
       "      <td>Trump Is So Obsessed He Even Has Obama’s Name...</td>\n",
       "      <td>On Christmas day, Donald Trump announced that ...</td>\n",
       "      <td>News</td>\n",
       "      <td>December 29, 2017</td>\n",
       "    </tr>\n",
       "    <tr>\n",
       "      <th>4</th>\n",
       "      <td>Pope Francis Just Called Out Donald Trump Dur...</td>\n",
       "      <td>Pope Francis used his annual Christmas Day mes...</td>\n",
       "      <td>News</td>\n",
       "      <td>December 25, 2017</td>\n",
       "    </tr>\n",
       "  </tbody>\n",
       "</table>\n",
       "</div>"
      ],
      "text/plain": [
       "                                               title  \\\n",
       "0   Donald Trump Sends Out Embarrassing New Year’...   \n",
       "1   Drunk Bragging Trump Staffer Started Russian ...   \n",
       "2   Sheriff David Clarke Becomes An Internet Joke...   \n",
       "3   Trump Is So Obsessed He Even Has Obama’s Name...   \n",
       "4   Pope Francis Just Called Out Donald Trump Dur...   \n",
       "\n",
       "                                                text subject  \\\n",
       "0  Donald Trump just couldn t wish all Americans ...    News   \n",
       "1  House Intelligence Committee Chairman Devin Nu...    News   \n",
       "2  On Friday, it was revealed that former Milwauk...    News   \n",
       "3  On Christmas day, Donald Trump announced that ...    News   \n",
       "4  Pope Francis used his annual Christmas Day mes...    News   \n",
       "\n",
       "                date  \n",
       "0  December 31, 2017  \n",
       "1  December 31, 2017  \n",
       "2  December 30, 2017  \n",
       "3  December 29, 2017  \n",
       "4  December 25, 2017  "
      ]
     },
     "execution_count": 8,
     "metadata": {},
     "output_type": "execute_result"
    }
   ],
   "source": [
    "fake.head()"
   ]
  },
  {
   "cell_type": "code",
   "execution_count": 10,
   "metadata": {},
   "outputs": [],
   "source": [
    "real['label'] = 1\n",
    "fake['label'] = 0\n",
    "\n",
    "news_data = pd.concat([real, fake], ignore_index= True)\n",
    "news_data = shuffle(news_data)"
   ]
  },
  {
   "cell_type": "code",
   "execution_count": 11,
   "metadata": {},
   "outputs": [
    {
     "data": {
      "text/html": [
       "<div>\n",
       "<style scoped>\n",
       "    .dataframe tbody tr th:only-of-type {\n",
       "        vertical-align: middle;\n",
       "    }\n",
       "\n",
       "    .dataframe tbody tr th {\n",
       "        vertical-align: top;\n",
       "    }\n",
       "\n",
       "    .dataframe thead th {\n",
       "        text-align: right;\n",
       "    }\n",
       "</style>\n",
       "<table border=\"1\" class=\"dataframe\">\n",
       "  <thead>\n",
       "    <tr style=\"text-align: right;\">\n",
       "      <th></th>\n",
       "      <th>title</th>\n",
       "      <th>text</th>\n",
       "      <th>subject</th>\n",
       "      <th>date</th>\n",
       "      <th>label</th>\n",
       "    </tr>\n",
       "  </thead>\n",
       "  <tbody>\n",
       "    <tr>\n",
       "      <th>18184</th>\n",
       "      <td>Austria's conservatives, Social Democrats to s...</td>\n",
       "      <td>VIENNA (Reuters) - Austria s co-governing Soci...</td>\n",
       "      <td>worldnews</td>\n",
       "      <td>October 6, 2017</td>\n",
       "      <td>1</td>\n",
       "    </tr>\n",
       "    <tr>\n",
       "      <th>993</th>\n",
       "      <td>U.S. belatedly begins to comply with Russia sa...</td>\n",
       "      <td>WASHINGTON (Reuters) - The U.S. State Departme...</td>\n",
       "      <td>politicsNews</td>\n",
       "      <td>October 26, 2017</td>\n",
       "      <td>1</td>\n",
       "    </tr>\n",
       "    <tr>\n",
       "      <th>38827</th>\n",
       "      <td>WHY CHRISTIANS ARE ASKING THEIR FELLOW CHRISTI...</td>\n",
       "      <td>It s about time Rev. Patrick Mahoney, of Churc...</td>\n",
       "      <td>Government News</td>\n",
       "      <td>Apr 18, 2015</td>\n",
       "      <td>0</td>\n",
       "    </tr>\n",
       "    <tr>\n",
       "      <th>30400</th>\n",
       "      <td>Happy 2016! Republicans Already Promise To Be...</td>\n",
       "      <td>Well that didn t take long at all did it? 2016...</td>\n",
       "      <td>News</td>\n",
       "      <td>January 4, 2016</td>\n",
       "      <td>0</td>\n",
       "    </tr>\n",
       "    <tr>\n",
       "      <th>32213</th>\n",
       "      <td>TRIGGERED! FORMER CIA AGENT: ‘Trey Gowdy Ought...</td>\n",
       "      <td>Former CIA Agent Phil Mudd is a jackwagon! He ...</td>\n",
       "      <td>politics</td>\n",
       "      <td>May 24, 2017</td>\n",
       "      <td>0</td>\n",
       "    </tr>\n",
       "  </tbody>\n",
       "</table>\n",
       "</div>"
      ],
      "text/plain": [
       "                                                   title  \\\n",
       "18184  Austria's conservatives, Social Democrats to s...   \n",
       "993    U.S. belatedly begins to comply with Russia sa...   \n",
       "38827  WHY CHRISTIANS ARE ASKING THEIR FELLOW CHRISTI...   \n",
       "30400   Happy 2016! Republicans Already Promise To Be...   \n",
       "32213  TRIGGERED! FORMER CIA AGENT: ‘Trey Gowdy Ought...   \n",
       "\n",
       "                                                    text          subject  \\\n",
       "18184  VIENNA (Reuters) - Austria s co-governing Soci...        worldnews   \n",
       "993    WASHINGTON (Reuters) - The U.S. State Departme...     politicsNews   \n",
       "38827  It s about time Rev. Patrick Mahoney, of Churc...  Government News   \n",
       "30400  Well that didn t take long at all did it? 2016...             News   \n",
       "32213  Former CIA Agent Phil Mudd is a jackwagon! He ...         politics   \n",
       "\n",
       "                    date  label  \n",
       "18184   October 6, 2017       1  \n",
       "993    October 26, 2017       1  \n",
       "38827       Apr 18, 2015      0  \n",
       "30400    January 4, 2016      0  \n",
       "32213       May 24, 2017      0  "
      ]
     },
     "execution_count": 11,
     "metadata": {},
     "output_type": "execute_result"
    }
   ],
   "source": [
    "news_data.head()"
   ]
  },
  {
   "cell_type": "code",
   "execution_count": 12,
   "metadata": {},
   "outputs": [
    {
     "data": {
      "text/plain": [
       "title      0\n",
       "text       0\n",
       "subject    0\n",
       "date       0\n",
       "label      0\n",
       "dtype: int64"
      ]
     },
     "execution_count": 12,
     "metadata": {},
     "output_type": "execute_result"
    }
   ],
   "source": [
    "news_data.isna().sum()"
   ]
  },
  {
   "cell_type": "code",
   "execution_count": 13,
   "metadata": {},
   "outputs": [
    {
     "data": {
      "text/html": [
       "<div>\n",
       "<style scoped>\n",
       "    .dataframe tbody tr th:only-of-type {\n",
       "        vertical-align: middle;\n",
       "    }\n",
       "\n",
       "    .dataframe tbody tr th {\n",
       "        vertical-align: top;\n",
       "    }\n",
       "\n",
       "    .dataframe thead th {\n",
       "        text-align: right;\n",
       "    }\n",
       "</style>\n",
       "<table border=\"1\" class=\"dataframe\">\n",
       "  <thead>\n",
       "    <tr style=\"text-align: right;\">\n",
       "      <th></th>\n",
       "      <th>title</th>\n",
       "      <th>text</th>\n",
       "      <th>label</th>\n",
       "    </tr>\n",
       "  </thead>\n",
       "  <tbody>\n",
       "    <tr>\n",
       "      <th>18184</th>\n",
       "      <td>Austria's conservatives, Social Democrats to s...</td>\n",
       "      <td>VIENNA (Reuters) - Austria s co-governing Soci...</td>\n",
       "      <td>1</td>\n",
       "    </tr>\n",
       "    <tr>\n",
       "      <th>993</th>\n",
       "      <td>U.S. belatedly begins to comply with Russia sa...</td>\n",
       "      <td>WASHINGTON (Reuters) - The U.S. State Departme...</td>\n",
       "      <td>1</td>\n",
       "    </tr>\n",
       "    <tr>\n",
       "      <th>38827</th>\n",
       "      <td>WHY CHRISTIANS ARE ASKING THEIR FELLOW CHRISTI...</td>\n",
       "      <td>It s about time Rev. Patrick Mahoney, of Churc...</td>\n",
       "      <td>0</td>\n",
       "    </tr>\n",
       "    <tr>\n",
       "      <th>30400</th>\n",
       "      <td>Happy 2016! Republicans Already Promise To Be...</td>\n",
       "      <td>Well that didn t take long at all did it? 2016...</td>\n",
       "      <td>0</td>\n",
       "    </tr>\n",
       "    <tr>\n",
       "      <th>32213</th>\n",
       "      <td>TRIGGERED! FORMER CIA AGENT: ‘Trey Gowdy Ought...</td>\n",
       "      <td>Former CIA Agent Phil Mudd is a jackwagon! He ...</td>\n",
       "      <td>0</td>\n",
       "    </tr>\n",
       "    <tr>\n",
       "      <th>...</th>\n",
       "      <td>...</td>\n",
       "      <td>...</td>\n",
       "      <td>...</td>\n",
       "    </tr>\n",
       "    <tr>\n",
       "      <th>12432</th>\n",
       "      <td>Australian PM says government at risk if it lo...</td>\n",
       "      <td>SYDNEY (Reuters) - Australian Prime Minister M...</td>\n",
       "      <td>1</td>\n",
       "    </tr>\n",
       "    <tr>\n",
       "      <th>28300</th>\n",
       "      <td>Former ‘Apprentice’ Contestants Unite AGAINST...</td>\n",
       "      <td>When you want to learn more about what a perso...</td>\n",
       "      <td>0</td>\n",
       "    </tr>\n",
       "    <tr>\n",
       "      <th>6482</th>\n",
       "      <td>U.S. Congress certifies Trump's Electoral Coll...</td>\n",
       "      <td>WASHINGTON (Reuters) - The U.S. Congress on Fr...</td>\n",
       "      <td>1</td>\n",
       "    </tr>\n",
       "    <tr>\n",
       "      <th>43646</th>\n",
       "      <td>Trump Asks O’Reilly, ‘Do you think our country...</td>\n",
       "      <td>21st Century Wire says Regardless of what one ...</td>\n",
       "      <td>0</td>\n",
       "    </tr>\n",
       "    <tr>\n",
       "      <th>2295</th>\n",
       "      <td>U.N. vote Saturday on U.S. bid to slash North ...</td>\n",
       "      <td>UNITED NATIONS (Reuters) - The United Nations ...</td>\n",
       "      <td>1</td>\n",
       "    </tr>\n",
       "  </tbody>\n",
       "</table>\n",
       "<p>44898 rows × 3 columns</p>\n",
       "</div>"
      ],
      "text/plain": [
       "                                                   title  \\\n",
       "18184  Austria's conservatives, Social Democrats to s...   \n",
       "993    U.S. belatedly begins to comply with Russia sa...   \n",
       "38827  WHY CHRISTIANS ARE ASKING THEIR FELLOW CHRISTI...   \n",
       "30400   Happy 2016! Republicans Already Promise To Be...   \n",
       "32213  TRIGGERED! FORMER CIA AGENT: ‘Trey Gowdy Ought...   \n",
       "...                                                  ...   \n",
       "12432  Australian PM says government at risk if it lo...   \n",
       "28300   Former ‘Apprentice’ Contestants Unite AGAINST...   \n",
       "6482   U.S. Congress certifies Trump's Electoral Coll...   \n",
       "43646  Trump Asks O’Reilly, ‘Do you think our country...   \n",
       "2295   U.N. vote Saturday on U.S. bid to slash North ...   \n",
       "\n",
       "                                                    text  label  \n",
       "18184  VIENNA (Reuters) - Austria s co-governing Soci...      1  \n",
       "993    WASHINGTON (Reuters) - The U.S. State Departme...      1  \n",
       "38827  It s about time Rev. Patrick Mahoney, of Churc...      0  \n",
       "30400  Well that didn t take long at all did it? 2016...      0  \n",
       "32213  Former CIA Agent Phil Mudd is a jackwagon! He ...      0  \n",
       "...                                                  ...    ...  \n",
       "12432  SYDNEY (Reuters) - Australian Prime Minister M...      1  \n",
       "28300  When you want to learn more about what a perso...      0  \n",
       "6482   WASHINGTON (Reuters) - The U.S. Congress on Fr...      1  \n",
       "43646  21st Century Wire says Regardless of what one ...      0  \n",
       "2295   UNITED NATIONS (Reuters) - The United Nations ...      1  \n",
       "\n",
       "[44898 rows x 3 columns]"
      ]
     },
     "execution_count": 13,
     "metadata": {},
     "output_type": "execute_result"
    }
   ],
   "source": [
    "news_data.drop(['subject', 'date'], axis= 1)"
   ]
  },
  {
   "cell_type": "code",
   "execution_count": 14,
   "metadata": {},
   "outputs": [],
   "source": [
    "news_data['text_processed'] = news_data['text'].map(lambda x: re.sub('(Reuters)', \"\", x))\n",
    "news_data['text_processed'] = news_data['text_processed'].map(lambda x: re.sub('[^A-Za-z0-9]+', ' ', x))\n",
    "news_data['text_processed'] = news_data['text_processed'].map(lambda x: x.lower())"
   ]
  },
  {
   "cell_type": "code",
   "execution_count": 15,
   "metadata": {},
   "outputs": [
    {
     "data": {
      "text/plain": [
       "18184    vienna austria s co governing social democrats...\n",
       "993      washington the u s state department on thursda...\n",
       "38827    it s about time rev patrick mahoney of church ...\n",
       "30400    well that didn t take long at all did it 2016 ...\n",
       "32213    former cia agent phil mudd is a jackwagon he t...\n",
       "                               ...                        \n",
       "12432    sydney australian prime minister malcolm turnb...\n",
       "28300    when you want to learn more about what a perso...\n",
       "6482     washington the u s congress on friday certifie...\n",
       "43646    21st century wire says regardless of what one ...\n",
       "2295     united nations the united nations security cou...\n",
       "Name: text_processed, Length: 44898, dtype: object"
      ]
     },
     "execution_count": 15,
     "metadata": {},
     "output_type": "execute_result"
    }
   ],
   "source": [
    "news_data['text_processed']"
   ]
  },
  {
   "cell_type": "code",
   "execution_count": 18,
   "metadata": {},
   "outputs": [
    {
     "name": "stderr",
     "output_type": "stream",
     "text": [
      "[nltk_data] Downloading package wordnet to\n",
      "[nltk_data]     C:\\Users\\LENOVO\\AppData\\Roaming\\nltk_data...\n",
      "[nltk_data]   Unzipping corpora\\wordnet.zip.\n"
     ]
    }
   ],
   "source": [
    "import nltk\n",
    "nltk.download('wordnet')\n",
    "from nltk.stem import WordNetLemmatizer\n",
    "\n",
    "def lemmatize(text):\n",
    "    lm = WordNetLemmatizer()\n",
    "    tokens = [lm.lemmatize(word) for word in text.split()]\n",
    "    return \" \".join(tokens)"
   ]
  },
  {
   "cell_type": "code",
   "execution_count": 19,
   "metadata": {},
   "outputs": [
    {
     "data": {
      "text/plain": [
       "'washington the head of a conservative republican faction in the u s congress who voted this month for a huge expansion of the national debt to pay for tax cut called himself a fiscal conservative on sunday and urged budget restraint in 2018 in keeping with a sharp pivot under way among republican u s representative mark meadow speaking on cbs face the nation drew a hard line on federal spending which lawmaker are bracing to do battle over in january when they return from the holiday on wednesday lawmaker will begin trying to pas a federal budget in a fight likely to be linked to other issue such a immigration policy even a the november congressional election campaign approach in which republican will seek to keep control of congress president donald trump and his republican want a big budget increase in military spending while democrat also want proportional increase for non defense discretionary spending on program that support education scientific research infrastructure public health and environmental protection the trump administration ha already been willing to say we re going to increase non defense discretionary spending by about 7 percent meadow chairman of the small but influential house freedom caucus said on the program now democrat are saying that s not enough we need to give the government a pay raise of 10 to 11 percent for a fiscal conservative i don t see where the rationale is eventually you run out of other people s money he said meadow wa among republican who voted in late december for their party s debt financed tax overhaul which is expected to balloon the federal budget deficit and add about 1 5 trillion over 10 year to the 20 trillion national debt it s interesting to hear mark talk about fiscal responsibility democratic u s representative joseph crowley said on cbs crowley said the republican tax bill would require the united state to borrow 1 5 trillion to be paid off by future generation to finance tax cut for corporation and the rich this is one of the least fiscally responsible bill we ve ever seen passed in the history of the house of representative i think we re going to be paying for this for many many year to come crowley said republican insist the tax package the biggest u s tax overhaul in more than 30 year will boost the economy and job growth house speaker paul ryan who also supported the tax bill recently went further than meadow making clear in a radio interview that welfare or entitlement reform a the party often call it would be a top republican priority in 2018 in republican parlance entitlement program mean food stamp housing assistance medicare and medicaid health insurance for the elderly poor and disabled a well a other program created by washington to assist the needy democrat seized on ryan s early december remark saying they showed republican would try to pay for their tax overhaul by seeking spending cut for social program but the goal of house republican may have to take a back seat to the senate where the vote of some democrat will be needed to approve a budget and prevent a government shutdown democrat will use their leverage in the senate which republican narrowly control to defend both discretionary non defense program and social spending while tackling the issue of the dreamer people brought illegally to the country a child trump in september put a march 2018 expiration date on the deferred action for childhood arrival or daca program which protects the young immigrant from deportation and provides them with work permit the president ha said in recent twitter message he want funding for his proposed mexican border wall and other immigration law change in exchange for agreeing to help the dreamer representative debbie dingell told cbs she did not favor linking that issue to other policy objective such a wall funding we need to do daca clean she said on wednesday trump aide will meet with congressional leader to discus those issue that will be followed by a weekend of strategy session for trump and republican leader on jan 6 and 7 the white house said trump wa also scheduled to meet on sunday with florida republican governor rick scott who want more emergency aid the house ha passed an 81 billion aid package after hurricane in florida texas and puerto rico and wildfire in california the package far exceeded the 44 billion requested by the trump administration the senate ha not yet voted on the aid'"
      ]
     },
     "execution_count": 19,
     "metadata": {},
     "output_type": "execute_result"
    }
   ],
   "source": [
    "lemmatize(news_data['text_processed'] [0])"
   ]
  },
  {
   "cell_type": "code",
   "execution_count": 20,
   "metadata": {},
   "outputs": [],
   "source": [
    "news_data['text_processed '] = news_data['text_processed'].apply(lemmatize)"
   ]
  },
  {
   "cell_type": "code",
   "execution_count": 21,
   "metadata": {},
   "outputs": [],
   "source": [
    "from sklearn.feature_extraction.text import TfidfVectorizer\n",
    "from sklearn.model_selection import train_test_split"
   ]
  },
  {
   "cell_type": "code",
   "execution_count": 22,
   "metadata": {},
   "outputs": [],
   "source": [
    "y = news_data['label']\n",
    "X = news_data.drop('label', axis=1)"
   ]
  },
  {
   "cell_type": "code",
   "execution_count": 24,
   "metadata": {},
   "outputs": [
    {
     "data": {
      "text/html": [
       "<div>\n",
       "<style scoped>\n",
       "    .dataframe tbody tr th:only-of-type {\n",
       "        vertical-align: middle;\n",
       "    }\n",
       "\n",
       "    .dataframe tbody tr th {\n",
       "        vertical-align: top;\n",
       "    }\n",
       "\n",
       "    .dataframe thead th {\n",
       "        text-align: right;\n",
       "    }\n",
       "</style>\n",
       "<table border=\"1\" class=\"dataframe\">\n",
       "  <thead>\n",
       "    <tr style=\"text-align: right;\">\n",
       "      <th></th>\n",
       "      <th>title</th>\n",
       "      <th>text</th>\n",
       "      <th>subject</th>\n",
       "      <th>date</th>\n",
       "      <th>text_processed</th>\n",
       "      <th>text_processed</th>\n",
       "    </tr>\n",
       "  </thead>\n",
       "  <tbody>\n",
       "    <tr>\n",
       "      <th>18184</th>\n",
       "      <td>Austria's conservatives, Social Democrats to s...</td>\n",
       "      <td>VIENNA (Reuters) - Austria s co-governing Soci...</td>\n",
       "      <td>worldnews</td>\n",
       "      <td>October 6, 2017</td>\n",
       "      <td>vienna austria s co governing social democrats...</td>\n",
       "      <td>vienna austria s co governing social democrat ...</td>\n",
       "    </tr>\n",
       "    <tr>\n",
       "      <th>993</th>\n",
       "      <td>U.S. belatedly begins to comply with Russia sa...</td>\n",
       "      <td>WASHINGTON (Reuters) - The U.S. State Departme...</td>\n",
       "      <td>politicsNews</td>\n",
       "      <td>October 26, 2017</td>\n",
       "      <td>washington the u s state department on thursda...</td>\n",
       "      <td>washington the u s state department on thursda...</td>\n",
       "    </tr>\n",
       "    <tr>\n",
       "      <th>38827</th>\n",
       "      <td>WHY CHRISTIANS ARE ASKING THEIR FELLOW CHRISTI...</td>\n",
       "      <td>It s about time Rev. Patrick Mahoney, of Churc...</td>\n",
       "      <td>Government News</td>\n",
       "      <td>Apr 18, 2015</td>\n",
       "      <td>it s about time rev patrick mahoney of church ...</td>\n",
       "      <td>it s about time rev patrick mahoney of church ...</td>\n",
       "    </tr>\n",
       "    <tr>\n",
       "      <th>30400</th>\n",
       "      <td>Happy 2016! Republicans Already Promise To Be...</td>\n",
       "      <td>Well that didn t take long at all did it? 2016...</td>\n",
       "      <td>News</td>\n",
       "      <td>January 4, 2016</td>\n",
       "      <td>well that didn t take long at all did it 2016 ...</td>\n",
       "      <td>well that didn t take long at all did it 2016 ...</td>\n",
       "    </tr>\n",
       "    <tr>\n",
       "      <th>32213</th>\n",
       "      <td>TRIGGERED! FORMER CIA AGENT: ‘Trey Gowdy Ought...</td>\n",
       "      <td>Former CIA Agent Phil Mudd is a jackwagon! He ...</td>\n",
       "      <td>politics</td>\n",
       "      <td>May 24, 2017</td>\n",
       "      <td>former cia agent phil mudd is a jackwagon he t...</td>\n",
       "      <td>former cia agent phil mudd is a jackwagon he t...</td>\n",
       "    </tr>\n",
       "  </tbody>\n",
       "</table>\n",
       "</div>"
      ],
      "text/plain": [
       "                                                   title  \\\n",
       "18184  Austria's conservatives, Social Democrats to s...   \n",
       "993    U.S. belatedly begins to comply with Russia sa...   \n",
       "38827  WHY CHRISTIANS ARE ASKING THEIR FELLOW CHRISTI...   \n",
       "30400   Happy 2016! Republicans Already Promise To Be...   \n",
       "32213  TRIGGERED! FORMER CIA AGENT: ‘Trey Gowdy Ought...   \n",
       "\n",
       "                                                    text          subject  \\\n",
       "18184  VIENNA (Reuters) - Austria s co-governing Soci...        worldnews   \n",
       "993    WASHINGTON (Reuters) - The U.S. State Departme...     politicsNews   \n",
       "38827  It s about time Rev. Patrick Mahoney, of Churc...  Government News   \n",
       "30400  Well that didn t take long at all did it? 2016...             News   \n",
       "32213  Former CIA Agent Phil Mudd is a jackwagon! He ...         politics   \n",
       "\n",
       "                    date                                     text_processed  \\\n",
       "18184   October 6, 2017   vienna austria s co governing social democrats...   \n",
       "993    October 26, 2017   washington the u s state department on thursda...   \n",
       "38827       Apr 18, 2015  it s about time rev patrick mahoney of church ...   \n",
       "30400    January 4, 2016  well that didn t take long at all did it 2016 ...   \n",
       "32213       May 24, 2017  former cia agent phil mudd is a jackwagon he t...   \n",
       "\n",
       "                                         text_processed   \n",
       "18184  vienna austria s co governing social democrat ...  \n",
       "993    washington the u s state department on thursda...  \n",
       "38827  it s about time rev patrick mahoney of church ...  \n",
       "30400  well that didn t take long at all did it 2016 ...  \n",
       "32213  former cia agent phil mudd is a jackwagon he t...  "
      ]
     },
     "execution_count": 24,
     "metadata": {},
     "output_type": "execute_result"
    }
   ],
   "source": [
    "X.head()"
   ]
  },
  {
   "cell_type": "code",
   "execution_count": 25,
   "metadata": {},
   "outputs": [],
   "source": [
    "X_train, X_test, y_train, y_test = train_test_split(X, y, test_size = 0.3, stratify = y , random_state = 100)"
   ]
  },
  {
   "cell_type": "code",
   "execution_count": 28,
   "metadata": {},
   "outputs": [],
   "source": [
    "tfidf = TfidfVectorizer(stop_words= 'english', ngram_range= (1,3), lowercase= True, max_features= 5000)\n",
    "X_train_transformed = tfidf.fit_transform(X_train['text_processed'])\n",
    "X_test_transformed = tfidf.transform(X_test['text_processed'])"
   ]
  },
  {
   "cell_type": "code",
   "execution_count": 29,
   "metadata": {},
   "outputs": [
    {
     "data": {
      "text/plain": [
       "(31428, 5000)"
      ]
     },
     "execution_count": 29,
     "metadata": {},
     "output_type": "execute_result"
    }
   ],
   "source": [
    "X_train_transformed.shape"
   ]
  },
  {
   "cell_type": "markdown",
   "metadata": {},
   "source": [
    "# Logistic Regression"
   ]
  },
  {
   "cell_type": "code",
   "execution_count": 30,
   "metadata": {},
   "outputs": [],
   "source": [
    "from sklearn.linear_model import LogisticRegression"
   ]
  },
  {
   "cell_type": "code",
   "execution_count": 31,
   "metadata": {},
   "outputs": [
    {
     "data": {
      "text/plain": [
       "LogisticRegression()"
      ]
     },
     "execution_count": 31,
     "metadata": {},
     "output_type": "execute_result"
    }
   ],
   "source": [
    "lr = LogisticRegression()\n",
    "lr.fit(X_train_transformed, y_train)"
   ]
  },
  {
   "cell_type": "code",
   "execution_count": 32,
   "metadata": {},
   "outputs": [],
   "source": [
    "y_pred = lr.predict(X_test_transformed)"
   ]
  },
  {
   "cell_type": "code",
   "execution_count": 33,
   "metadata": {},
   "outputs": [],
   "source": [
    "from sklearn.metrics import accuracy_score, confusion_matrix"
   ]
  },
  {
   "cell_type": "code",
   "execution_count": 34,
   "metadata": {},
   "outputs": [
    {
     "data": {
      "text/plain": [
       "0.9806978470675576"
      ]
     },
     "execution_count": 34,
     "metadata": {},
     "output_type": "execute_result"
    }
   ],
   "source": [
    "accuracy_score(y_test, y_pred)"
   ]
  },
  {
   "cell_type": "code",
   "execution_count": 35,
   "metadata": {},
   "outputs": [
    {
     "data": {
      "text/plain": [
       "array([[6880,  165],\n",
       "       [  95, 6330]], dtype=int64)"
      ]
     },
     "execution_count": 35,
     "metadata": {},
     "output_type": "execute_result"
    }
   ],
   "source": [
    "confusion_matrix(y_test, y_pred)"
   ]
  },
  {
   "cell_type": "markdown",
   "metadata": {},
   "source": [
    "# Decision Tree Classifier"
   ]
  },
  {
   "cell_type": "code",
   "execution_count": 36,
   "metadata": {},
   "outputs": [],
   "source": [
    "from sklearn.tree import DecisionTreeClassifier"
   ]
  },
  {
   "cell_type": "code",
   "execution_count": 37,
   "metadata": {},
   "outputs": [
    {
     "data": {
      "text/plain": [
       "DecisionTreeClassifier()"
      ]
     },
     "execution_count": 37,
     "metadata": {},
     "output_type": "execute_result"
    }
   ],
   "source": [
    "dtc = DecisionTreeClassifier()\n",
    "dtc.fit(X_train_transformed, y_train)"
   ]
  },
  {
   "cell_type": "code",
   "execution_count": 38,
   "metadata": {},
   "outputs": [],
   "source": [
    "y_pred = dtc.predict(X_test_transformed)"
   ]
  },
  {
   "cell_type": "code",
   "execution_count": 39,
   "metadata": {},
   "outputs": [
    {
     "data": {
      "text/plain": [
       "0.942761692650334"
      ]
     },
     "execution_count": 39,
     "metadata": {},
     "output_type": "execute_result"
    }
   ],
   "source": [
    "accuracy_score(y_test, y_pred)"
   ]
  },
  {
   "cell_type": "code",
   "execution_count": 40,
   "metadata": {},
   "outputs": [
    {
     "data": {
      "text/plain": [
       "array([[6721,  324],\n",
       "       [ 447, 5978]], dtype=int64)"
      ]
     },
     "execution_count": 40,
     "metadata": {},
     "output_type": "execute_result"
    }
   ],
   "source": [
    "confusion_matrix(y_test, y_pred)"
   ]
  },
  {
   "cell_type": "markdown",
   "metadata": {},
   "source": [
    "# Random Forest Classifier"
   ]
  },
  {
   "cell_type": "code",
   "execution_count": 41,
   "metadata": {},
   "outputs": [
    {
     "data": {
      "text/plain": [
       "RandomForestClassifier()"
      ]
     },
     "execution_count": 41,
     "metadata": {},
     "output_type": "execute_result"
    }
   ],
   "source": [
    "from sklearn.ensemble import RandomForestClassifier\n",
    "rfc = RandomForestClassifier()\n",
    "rfc.fit(X_train_transformed, y_train)"
   ]
  },
  {
   "cell_type": "code",
   "execution_count": 42,
   "metadata": {},
   "outputs": [],
   "source": [
    "y_pred = rfc.predict(X_test_transformed)"
   ]
  },
  {
   "cell_type": "code",
   "execution_count": 43,
   "metadata": {},
   "outputs": [
    {
     "data": {
      "text/plain": [
       "0.9844840386043059"
      ]
     },
     "execution_count": 43,
     "metadata": {},
     "output_type": "execute_result"
    }
   ],
   "source": [
    "accuracy_score(y_test, y_pred)"
   ]
  },
  {
   "cell_type": "code",
   "execution_count": 44,
   "metadata": {},
   "outputs": [
    {
     "data": {
      "text/plain": [
       "array([[6907,  138],\n",
       "       [  71, 6354]], dtype=int64)"
      ]
     },
     "execution_count": 44,
     "metadata": {},
     "output_type": "execute_result"
    }
   ],
   "source": [
    "confusion_matrix(y_test, y_pred)"
   ]
  },
  {
   "cell_type": "code",
   "execution_count": null,
   "metadata": {},
   "outputs": [],
   "source": []
  }
 ],
 "metadata": {
  "kernelspec": {
   "display_name": "Python 3",
   "language": "python",
   "name": "python3"
  },
  "language_info": {
   "codemirror_mode": {
    "name": "ipython",
    "version": 3
   },
   "file_extension": ".py",
   "mimetype": "text/x-python",
   "name": "python",
   "nbconvert_exporter": "python",
   "pygments_lexer": "ipython3",
   "version": "3.8.3"
  }
 },
 "nbformat": 4,
 "nbformat_minor": 4
}
